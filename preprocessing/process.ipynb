{
 "cells": [
  {
   "cell_type": "code",
   "execution_count": 1,
   "metadata": {},
   "outputs": [],
   "source": [
    "from etl import MidiDatasetTokenizer, MidiTokenizer"
   ]
  },
  {
   "attachments": {},
   "cell_type": "markdown",
   "metadata": {},
   "source": [
    "Set parameters for our tokenization:"
   ]
  },
  {
   "cell_type": "code",
   "execution_count": 2,
   "metadata": {},
   "outputs": [],
   "source": [
    "\n",
    "\n",
    "data_dir = '../data_raw/'\n",
    "dataset_name = 'default_all_318'\n",
    "num_accompaniment = 4\n",
    "cap = 0"
   ]
  },
  {
   "attachments": {},
   "cell_type": "markdown",
   "metadata": {},
   "source": [
    "Run tokenizer across files:"
   ]
  },
  {
   "cell_type": "code",
   "execution_count": 4,
   "metadata": {},
   "outputs": [
    {
     "name": "stderr",
     "output_type": "stream",
     "text": [
      "12285it [2:53:31,  2.04it/s]"
     ]
    }
   ],
   "source": [
    "tokenizer = MidiTokenizer()\n",
    "dataset_tokenizer = MidiDatasetTokenizer(data_dir, tokenizer, num_accompaniment)\n",
    "dataset_tokenizer.write_tokenized(dataset_name, cap)"
   ]
  }
 ],
 "metadata": {
  "kernelspec": {
   "display_name": "566proj",
   "language": "python",
   "name": "python3"
  },
  "language_info": {
   "codemirror_mode": {
    "name": "ipython",
    "version": 3
   },
   "file_extension": ".py",
   "mimetype": "text/x-python",
   "name": "python",
   "nbconvert_exporter": "python",
   "pygments_lexer": "ipython3",
   "version": "3.9.16"
  },
  "orig_nbformat": 4,
  "vscode": {
   "interpreter": {
    "hash": "6bbfd8c72361d807208f7da58f7978ae9aa7849c3f1f7f706d7ac951212247ef"
   }
  }
 },
 "nbformat": 4,
 "nbformat_minor": 2
}
